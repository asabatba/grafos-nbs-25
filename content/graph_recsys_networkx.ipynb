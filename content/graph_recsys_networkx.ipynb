{
 "cells": [
  {
   "cell_type": "markdown",
   "id": "11b867d0",
   "metadata": {},
   "source": [
    "# Graph-Based Recommenders with NetworkX\n",
    "\n",
    "This 45 minute lesson walks through a minimal graph-based recommender workflow using NetworkX and pandas."
   ]
  },
  {
   "cell_type": "markdown",
   "id": "7c4322a8",
   "metadata": {},
   "source": [
    "**Agenda**\n",
    "\n",
    "- 0-5 min - Why graphs for recommender systems\n",
    "- 5-10 min - Problem framing\n",
    "- 10-22 min - Live build in NetworkX\n",
    "- 22-34 min - Two recommenders\n",
    "- 34-41 min - Fast evaluation"
   ]
  },
  {
   "cell_type": "markdown",
   "id": "88b75d46",
   "metadata": {},
   "source": [
    "## 0-5 min - Why graphs for recommender systems\n",
    "\n",
    "- Graphs model entities as nodes and relationships as edges, matching the user-to-item interactions we collect.\n",
    "- Recommender data is naturally bipartite: one partition for users and one for items.\n",
    "- Recommendations become link prediction or two-hop paths across that bipartite structure.\n",
    "- Graphs give multi-relational context, trail transparency, and help with cold-start items that sit near popular neighbors."
   ]
  },
  {
   "cell_type": "markdown",
   "id": "c340c8b3",
   "metadata": {},
   "source": [
    "## 5-10 min - Problem framing\n",
    "\n",
    "- **Input:** time-stamped user-item interactions.\n",
    "- **Output:** a ranked list of new items per user.\n",
    "- Graph view: recommend items that sit close to a user via similar users or random walks.\n",
    "- We will compare two simple methods: user-user Jaccard similarity and Personalized PageRank (PPR)."
   ]
  },
  {
   "cell_type": "code",
   "execution_count": 1,
   "id": "7efcea48",
   "metadata": {},
   "outputs": [],
   "source": [
    "import pandas as pd\n",
    "import networkx as nx\n",
    "from pathlib import Path\n",
    "import matplotlib.pyplot as plt\n",
    "\n",
    "DATA_PATH = Path(\"interactions.csv\")"
   ]
  },
  {
   "cell_type": "markdown",
   "id": "545c4c5b",
   "metadata": {},
   "source": [
    "Load the interaction log. Each row tells us which user touched which item and when."
   ]
  },
  {
   "cell_type": "code",
   "execution_count": 2,
   "id": "35adf201",
   "metadata": {},
   "outputs": [
    {
     "data": {
      "text/html": [
       "<div>\n",
       "<style scoped>\n",
       "    .dataframe tbody tr th:only-of-type {\n",
       "        vertical-align: middle;\n",
       "    }\n",
       "\n",
       "    .dataframe tbody tr th {\n",
       "        vertical-align: top;\n",
       "    }\n",
       "\n",
       "    .dataframe thead th {\n",
       "        text-align: right;\n",
       "    }\n",
       "</style>\n",
       "<table border=\"1\" class=\"dataframe\">\n",
       "  <thead>\n",
       "    <tr style=\"text-align: right;\">\n",
       "      <th></th>\n",
       "      <th>user</th>\n",
       "      <th>item</th>\n",
       "      <th>timestamp</th>\n",
       "    </tr>\n",
       "  </thead>\n",
       "  <tbody>\n",
       "    <tr>\n",
       "      <th>134</th>\n",
       "      <td>u13</td>\n",
       "      <td>i039</td>\n",
       "      <td>2024-01-01 09:18:00</td>\n",
       "    </tr>\n",
       "    <tr>\n",
       "      <th>127</th>\n",
       "      <td>u12</td>\n",
       "      <td>i094</td>\n",
       "      <td>2024-01-02 16:59:00</td>\n",
       "    </tr>\n",
       "    <tr>\n",
       "      <th>262</th>\n",
       "      <td>u23</td>\n",
       "      <td>i067</td>\n",
       "      <td>2024-01-02 21:55:00</td>\n",
       "    </tr>\n",
       "    <tr>\n",
       "      <th>278</th>\n",
       "      <td>u24</td>\n",
       "      <td>i071</td>\n",
       "      <td>2024-01-03 09:46:00</td>\n",
       "    </tr>\n",
       "    <tr>\n",
       "      <th>100</th>\n",
       "      <td>u09</td>\n",
       "      <td>i037</td>\n",
       "      <td>2024-01-04 10:49:00</td>\n",
       "    </tr>\n",
       "  </tbody>\n",
       "</table>\n",
       "</div>"
      ],
      "text/plain": [
       "    user  item           timestamp\n",
       "134  u13  i039 2024-01-01 09:18:00\n",
       "127  u12  i094 2024-01-02 16:59:00\n",
       "262  u23  i067 2024-01-02 21:55:00\n",
       "278  u24  i071 2024-01-03 09:46:00\n",
       "100  u09  i037 2024-01-04 10:49:00"
      ]
     },
     "execution_count": 2,
     "metadata": {},
     "output_type": "execute_result"
    }
   ],
   "source": [
    "interactions_df = pd.read_csv(DATA_PATH, parse_dates=[\"timestamp\"]).sort_values(\n",
    "    \"timestamp\"\n",
    ")\n",
    "interactions_df.head()"
   ]
  },
  {
   "cell_type": "code",
   "execution_count": 3,
   "id": "ef62bb07",
   "metadata": {},
   "outputs": [
    {
     "data": {
      "text/plain": [
       "{'users': 30, 'items': 99, 'interactions': 374}"
      ]
     },
     "execution_count": 3,
     "metadata": {},
     "output_type": "execute_result"
    }
   ],
   "source": [
    "summary = {\n",
    "    \"users\": interactions_df[\"user\"].nunique(),\n",
    "    \"items\": interactions_df[\"item\"].nunique(),\n",
    "    \"interactions\": len(interactions_df),\n",
    "}\n",
    "summary"
   ]
  },
  {
   "cell_type": "markdown",
   "id": "cb4e232c",
   "metadata": {},
   "source": [
    "## 10-22 min - Live build in NetworkX\n",
    "\n",
    "We now turn the table into a bipartite graph where users and items live in separate partitions."
   ]
  },
  {
   "cell_type": "code",
   "execution_count": 4,
   "id": "97478455",
   "metadata": {},
   "outputs": [],
   "source": [
    "def build_bipartite_graph(df: pd.DataFrame) -> nx.Graph:\n",
    "    \"\"\"Return a bipartite graph with `bipartite` metadata on nodes.\"\"\"\n",
    "    B = nx.Graph()\n",
    "    users = df[\"user\"].unique()\n",
    "    items = df[\"item\"].unique()\n",
    "    B.add_nodes_from(users, bipartite=\"users\")\n",
    "    B.add_nodes_from(items, bipartite=\"items\")\n",
    "    for row in df.itertuples(index=False):\n",
    "        B.add_edge(row.user, row.item, timestamp=row.timestamp)\n",
    "    return B"
   ]
  },
  {
   "cell_type": "code",
   "execution_count": 5,
   "id": "d6d4d23a",
   "metadata": {},
   "outputs": [
    {
     "name": "stdout",
     "output_type": "stream",
     "text": [
      "Nodes: 129 | Edges: 374\n",
      "User nodes: 30 | Item nodes: 99\n"
     ]
    }
   ],
   "source": [
    "B_full = build_bipartite_graph(interactions_df)\n",
    "print(f\"Nodes: {B_full.number_of_nodes()} | Edges: {B_full.number_of_edges()}\")\n",
    "user_nodes = [n for n, data in B_full.nodes(data=True) if data[\"bipartite\"] == \"users\"]\n",
    "item_nodes = [n for n, data in B_full.nodes(data=True) if data[\"bipartite\"] == \"items\"]\n",
    "print(f\"User nodes: {len(user_nodes)} | Item nodes: {len(item_nodes)}\")"
   ]
  },
  {
   "cell_type": "markdown",
   "id": "5d106f7f",
   "metadata": {},
   "source": [
    "Confirm the metadata that tells us which partition each node belongs to."
   ]
  },
  {
   "cell_type": "code",
   "execution_count": 6,
   "id": "b70d61d6",
   "metadata": {},
   "outputs": [
    {
     "name": "stdout",
     "output_type": "stream",
     "text": [
      "u13 {'bipartite': 'users'}\n",
      "u12 {'bipartite': 'users'}\n",
      "u23 {'bipartite': 'users'}\n",
      "u24 {'bipartite': 'users'}\n",
      "u09 {'bipartite': 'users'}\n"
     ]
    }
   ],
   "source": [
    "for node in user_nodes[:5]:\n",
    "    print(node, B_full.nodes[node])"
   ]
  },
  {
   "cell_type": "markdown",
   "id": "2e2d5b13",
   "metadata": {},
   "source": [
    "A quick ego-graph paints how two-hop paths capture recommendation reach."
   ]
  },
  {
   "cell_type": "code",
   "execution_count": 7,
   "id": "1b20dded",
   "metadata": {},
   "outputs": [
    {
     "data": {
      "image/png": "[encoded data removed]",
      "text/plain": [
       "<Figure size 800x600 with 1 Axes>"
      ]
     },
     "metadata": {},
     "output_type": "display_data"
    }
   ],
   "source": [
    "def plot_ego(B: nx.Graph, user: str, max_neighbors: int = 12) -> None:\n",
    "    \"\"\"Plot a spring layout of the ego network around the user.\"\"\"\n",
    "    if user not in B:\n",
    "        raise ValueError(f\"User {user} not present in the graph\")\n",
    "    items = list(B.neighbors(user))[:max_neighbors]\n",
    "    nodes = {user, *items}\n",
    "    for item in items:\n",
    "        nodes.update(list(B.neighbors(item))[:6])\n",
    "    ego = B.subgraph(nodes).copy()\n",
    "    pos = nx.spring_layout(ego, seed=7)\n",
    "    plt.figure(figsize=(8, 6))\n",
    "    nx.draw(ego, pos, with_labels=True, node_size=400, font_size=8)\n",
    "    nx.draw_networkx_nodes(\n",
    "        ego,\n",
    "        pos,\n",
    "        nodelist=[n for n in ego.nodes if ego.nodes[n][\"bipartite\"] == \"users\"],\n",
    "        node_size=600,\n",
    "        node_color=\"tab:blue\",\n",
    "    )\n",
    "    nx.draw_networkx_nodes(\n",
    "        ego,\n",
    "        pos,\n",
    "        nodelist=[n for n in ego.nodes if ego.nodes[n][\"bipartite\"] == \"items\"],\n",
    "        node_size=500,\n",
    "        node_color=\"tab:green\",\n",
    "    )\n",
    "    plt.title(f\"Ego graph around {user}\")\n",
    "    plt.show()\n",
    "\n",
    "\n",
    "example_user = interactions_df[\"user\"].iloc[0]\n",
    "plot_ego(B_full, example_user)"
   ]
  },
  {
   "cell_type": "markdown",
   "id": "df638973",
   "metadata": {},
   "source": [
    "## 22-34 min - Two recommenders\n",
    "\n",
    "We start with a graph-native Jaccard scorer that relies on NetworkX's link-prediction helpers and then compare it with Personalized PageRank."
   ]
  },
  {
   "cell_type": "code",
   "execution_count": 57,
   "id": "dcc5998f",
   "metadata": {},
   "outputs": [],
   "source": [
    "from collections import defaultdict\n",
    "\n",
    "\n",
    "def to_user_items(df: pd.DataFrame) -> dict[str, set[str]]:\n",
    "    \"\"\"Collect the set of items interacted with by each user.\"\"\"\n",
    "    user_items: dict[str, set[str]] = defaultdict(set)\n",
    "    for row in df.itertuples(index=False):\n",
    "        user_items[row.user].add(row.item)\n",
    "    return user_items\n",
    "\n",
    "\n",
    "def recommend_jaccard_graph(\n",
    "    B: nx.Graph,\n",
    "    user: str,\n",
    ") -> dict[str, float]:\n",
    "    \"\"\"Use NetworkX's jaccard_coefficient to score user-item links.\"\"\"\n",
    "    if user not in B:\n",
    "        return []\n",
    "    ego: nx.Graph = nx.ego_graph(B, user, radius=2, center=False)\n",
    "    # print(ego)\n",
    "\n",
    "    neighbors = [\n",
    "        n for n, data in ego.nodes(data=True) if data.get(\"bipartite\") == \"users\"\n",
    "    ]\n",
    "    # print(neighbors)\n",
    "    # print(neighbors[0], B[neighbors[0]])\n",
    "    # print(nx.common_neighbors(B, user, neighbors[0]))\n",
    "    seen = set(B.neighbors(user))\n",
    "    # candidate_items = [\n",
    "    #     node\n",
    "    #     for node, data in B.nodes(data=True)\n",
    "    #     if data.get(\"bipartite\") == \"items\" and node not in seen\n",
    "    # ]\n",
    "    ebunch = list((user, neighbor) for neighbor in neighbors)\n",
    "    jaccard = dict([((u, v), p) for u, v, p in nx.jaccard_coefficient(B, ebunch)])\n",
    "    # print(dict(jaccard))\n",
    "    scored_items = defaultdict(float)\n",
    "\n",
    "    for neighbor in neighbors:\n",
    "        for item in B.neighbors(neighbor):\n",
    "            if item not in seen:\n",
    "                scored_items[item] += (jaccard).get((user, neighbor), 0)\n",
    "\n",
    "    return scored_items\n",
    "    # tree: nx.DiGraph = nx.bfs_tree(B, user, depth_limit=2)\n",
    "\n",
    "    # for product in tree.nodes:\n",
    "    #     if tree.nodes[product][\"bipartite\"] == \"items\" and product not in seen:\n",
    "    #         ebunch.append((user, product))\n",
    "\n",
    "    # # print(list(ebunch))\n",
    "    # # print(list(nx.jaccard_coefficient(B, ebunch)))\n",
    "    # scores = sorted(\n",
    "    #     ((u, v, score) for u, v, score in nx.jaccard_coefficient(B, ebunch)),\n",
    "    #     key=lambda x: x[2],\n",
    "    #     reverse=True,\n",
    "    # )\n",
    "    # return [item for _, item, _ in scores[:topn]]\n"
   ]
  },
  {
   "cell_type": "code",
   "execution_count": 58,
   "id": "072b83c0",
   "metadata": {},
   "outputs": [
    {
     "name": "stdout",
     "output_type": "stream",
     "text": [
      "Demo user: u13\n",
      "Jaccard suggestions: defaultdict(<class 'float'>, {'i096': 0.28555555555555556, 'i019': 0.3359233359233359, 'i008': 0.28174603174603174, 'i010': 0.18217893217893216, 'i077': 0.15141612200435728, 'i022': 0.28072853072853077, 'i035': 0.15376984126984128, 'i009': 0.11011904761904762, 'i052': 0.09821428571428571, 'i028': 0.1807058682058682, 'i073': 0.25297619047619047, 'i045': 0.10882352941176471, 'i062': 0.12275132275132275, 'i043': 0.3510989010989011, 'i069': 0.16703703703703704, 'i020': 0.3266233766233766, 'i075': 0.20407407407407407, 'i058': 0.05, 'i076': 0.22989417989417987, 'i063': 0.2560041407867495, 'i095': 0.4452787952787953, 'i098': 0.22534872534872535, 'i024': 0.15656565656565657, 'i068': 0.12794612794612795, 'i089': 0.037037037037037035, 'i025': 0.037037037037037035, 'i030': 0.1468253968253968, 'i013': 0.3865175565175565, 'i036': 0.1182058682058682, 'i038': 0.11703703703703704, 'i037': 0.2750924598750686, 'i031': 0.7833575670875443, 'i094': 0.18644257703081232, 'i015': 0.12761904761904763, 'i047': 0.12761904761904763, 'i003': 0.047619047619047616, 'i011': 0.27279202279202275, 'i067': 0.03571428571428571, 'i100': 0.03571428571428571, 'i092': 0.19360902255639095, 'i070': 0.07142857142857142, 'i081': 0.12267080745341614, 'i018': 0.16116883116883118, 'i057': 0.345527950310559, 'i034': 0.2942583732057416, 'i060': 0.19952861952861953, 'i049': 0.15524290524290524, 'i007': 0.08116883116883117, 'i044': 0.13636363636363635, 'i059': 0.4483324472798157, 'i071': 0.12267080745341614, 'i017': 0.3248512585812357, 'i091': 0.08695652173913043, 'i090': 0.16695652173913045, 'i078': 0.14578005115089515, 'i021': 0.23695652173913043, 'i004': 0.3523411371237458, 'i084': 0.2066233766233766, 'i061': 0.09090909090909091, 'i002': 0.12662337662337664, 'i023': 0.30407407407407405, 'i032': 0.15, 'i082': 0.18945868945868946, 'i088': 0.07407407407407407, 'i064': 0.15407407407407409, 'i033': 0.07407407407407407, 'i079': 0.21693121693121692, 'i050': 0.08, 'i005': 0.16, 'i006': 0.16, 'i048': 0.08, 'i055': 0.14285714285714285, 'i027': 0.3007518796992481, 'i097': 0.15109890109890112, 'i012': 0.2310989010989011, 'i001': 0.03571428571428571, 'i066': 0.17420814479638008, 'i056': 0.058823529411764705, 'i051': 0.15789473684210525, 'i083': 0.23789473684210527, 'i026': 0.19538461538461538, 'i054': 0.08, 'i087': 0.11538461538461539, 'i029': 0.11538461538461539})\n",
      "PPR suggestions: ['i031', 'i059', 'i076', 'i095', 'i013']\n"
     ]
    }
   ],
   "source": [
    "def recommend_ppr(\n",
    "    B: nx.Graph, user: str, *, alpha: float = 0.85, topn: int = 10, max_iter: int = 100\n",
    ") -> list[str]:\n",
    "    \"\"\"Run Personalized PageRank and return top unseen items.\"\"\"\n",
    "    if user not in B:\n",
    "        return []\n",
    "    personalization = {user: 1.0}\n",
    "    scores = nx.pagerank(\n",
    "        B, alpha=alpha, personalization=personalization, max_iter=max_iter\n",
    "    )\n",
    "    seen = set(B.neighbors(user))\n",
    "    candidates = [\n",
    "        (node, score)\n",
    "        for node, score in scores.items()\n",
    "        if B.nodes[node].get(\"bipartite\") == \"items\" and node not in seen\n",
    "    ]\n",
    "    candidates.sort(key=lambda x: x[1], reverse=True)\n",
    "    return [node for node, _ in candidates[:topn]]\n",
    "\n",
    "\n",
    "demo_user = interactions_df[\"user\"].iloc[0]\n",
    "cf_demo = recommend_jaccard_graph(B_full, demo_user)\n",
    "ppr_demo = recommend_ppr(B_full, demo_user, topn=5)\n",
    "print(f\"Demo user: {demo_user}\")\n",
    "print(\"Jaccard suggestions:\", cf_demo)\n",
    "print(\"PPR suggestions:\", ppr_demo)"
   ]
  },
  {
   "cell_type": "code",
   "execution_count": 63,
   "id": "2123fa1b",
   "metadata": {},
   "outputs": [
    {
     "data": {
      "text/html": [
       "<div><style>\n",
       ".dataframe > thead > tr,\n",
       ".dataframe > tbody > tr {\n",
       "  text-align: right;\n",
       "  white-space: pre-wrap;\n",
       "}\n",
       "</style>\n",
       "<small>shape: (84, 2)</small><table border=\"1\" class=\"dataframe\"><thead><tr><th>product</th><th>score</th></tr><tr><td>str</td><td>f64</td></tr></thead><tbody><tr><td>&quot;i031&quot;</td><td>0.783358</td></tr><tr><td>&quot;i059&quot;</td><td>0.448332</td></tr><tr><td>&quot;i095&quot;</td><td>0.445279</td></tr><tr><td>&quot;i013&quot;</td><td>0.386518</td></tr><tr><td>&quot;i004&quot;</td><td>0.352341</td></tr><tr><td>&hellip;</td><td>&hellip;</td></tr><tr><td>&quot;i089&quot;</td><td>0.037037</td></tr><tr><td>&quot;i025&quot;</td><td>0.037037</td></tr><tr><td>&quot;i067&quot;</td><td>0.035714</td></tr><tr><td>&quot;i100&quot;</td><td>0.035714</td></tr><tr><td>&quot;i001&quot;</td><td>0.035714</td></tr></tbody></table></div>"
      ],
      "text/plain": [
       "shape: (84, 2)\n",
       "┌─────────┬──────────┐\n",
       "│ product ┆ score    │\n",
       "│ ---     ┆ ---      │\n",
       "│ str     ┆ f64      │\n",
       "╞═════════╪══════════╡\n",
       "│ i031    ┆ 0.783358 │\n",
       "│ i059    ┆ 0.448332 │\n",
       "│ i095    ┆ 0.445279 │\n",
       "│ i013    ┆ 0.386518 │\n",
       "│ i004    ┆ 0.352341 │\n",
       "│ …       ┆ …        │\n",
       "│ i089    ┆ 0.037037 │\n",
       "│ i025    ┆ 0.037037 │\n",
       "│ i067    ┆ 0.035714 │\n",
       "│ i100    ┆ 0.035714 │\n",
       "│ i001    ┆ 0.035714 │\n",
       "└─────────┴──────────┘"
      ]
     },
     "execution_count": 63,
     "metadata": {},
     "output_type": "execute_result"
    }
   ],
   "source": [
    "import polars as pl\n",
    "\n",
    "pl.DataFrame({\"product\": cf_demo.keys(), \"score\": cf_demo.values()}).sort(\n",
    "    \"score\", descending=True\n",
    ")"
   ]
  },
  {
   "cell_type": "markdown",
   "id": "c0aa5cf5",
   "metadata": {},
   "source": [
    "## 34-41 min - Fast evaluation\n",
    "\n",
    "We hold out each user's latest interaction and compute Precision@K and Recall@K for both recommenders."
   ]
  },
  {
   "cell_type": "code",
   "execution_count": 10,
   "id": "453542c0",
   "metadata": {},
   "outputs": [],
   "source": [
    "def train_test_split_last_item_per_user(\n",
    "    df: pd.DataFrame,\n",
    ") -> tuple[pd.DataFrame, pd.DataFrame]:\n",
    "    \"\"\"Hold out the last timestamped interaction per user.\"\"\"\n",
    "    df_sorted = df.sort_values([\"user\", \"timestamp\"])\n",
    "    last_indices = df_sorted.groupby(\"user\").tail(1).index\n",
    "    test = df_sorted.loc[last_indices]\n",
    "    train = df_sorted.drop(last_indices)\n",
    "    return train, test\n",
    "\n",
    "\n",
    "def precision_recall_at_k(\n",
    "    recs: list[str], truth: list[str], k: int\n",
    ") -> tuple[float, float]:\n",
    "    \"\"\"Return Precision@k and Recall@k for a recommendation list.\"\"\"\n",
    "    recs_k = recs[:k]\n",
    "    hits = len(set(recs_k) & set(truth))\n",
    "    precision = hits / max(1, len(recs_k))\n",
    "    recall = hits / max(1, len(truth))\n",
    "    return precision, recall\n",
    "\n",
    "\n",
    "def evaluate_jaccard_graph(\n",
    "    train_df: pd.DataFrame, test_df: pd.DataFrame, *, topn: int\n",
    ") -> tuple[float, float, int]:\n",
    "    train_graph = build_bipartite_graph(train_df)\n",
    "    test_user_items = to_user_items(test_df)\n",
    "    metrics: list[tuple[float, float]] = []\n",
    "    for user, truth_items in test_user_items.items():\n",
    "        if user not in train_graph:\n",
    "            continue\n",
    "        recs = recommend_jaccard_graph(train_graph, user, topn=topn)\n",
    "        precision, recall = precision_recall_at_k(recs, list(truth_items), topn)\n",
    "        metrics.append((precision, recall))\n",
    "    if not metrics:\n",
    "        return 0.0, 0.0, 0\n",
    "    precision_avg = sum(p for p, _ in metrics) / len(metrics)\n",
    "    recall_avg = sum(r for _, r in metrics) / len(metrics)\n",
    "    return precision_avg, recall_avg, len(metrics)\n",
    "\n",
    "\n",
    "def evaluate_ppr(\n",
    "    train_df: pd.DataFrame, test_df: pd.DataFrame, *, topn: int\n",
    ") -> tuple[float, float, int]:\n",
    "    train_graph = build_bipartite_graph(train_df)\n",
    "    test_user_items = to_user_items(test_df)\n",
    "    metrics: list[tuple[float, float]] = []\n",
    "    for user, truth_items in test_user_items.items():\n",
    "        if user not in train_graph:\n",
    "            continue\n",
    "        recs = recommend_ppr(train_graph, user, topn=topn)\n",
    "        precision, recall = precision_recall_at_k(recs, list(truth_items), topn)\n",
    "        metrics.append((precision, recall))\n",
    "    if not metrics:\n",
    "        return 0.0, 0.0, 0\n",
    "    precision_avg = sum(p for p, _ in metrics) / len(metrics)\n",
    "    recall_avg = sum(r for _, r in metrics) / len(metrics)\n",
    "    return precision_avg, recall_avg, len(metrics)"
   ]
  },
  {
   "cell_type": "code",
   "execution_count": 11,
   "id": "df2fb2e2",
   "metadata": {},
   "outputs": [
    {
     "name": "stdout",
     "output_type": "stream",
     "text": [
      "Graph Jaccard Precision@10: 0.000 | Recall@10: 0.000 over 30 users\n",
      "PPR Precision@10: 0.013 | Recall@10: 0.133 over 30 users\n"
     ]
    }
   ],
   "source": [
    "train_df, test_df = train_test_split_last_item_per_user(interactions_df)\n",
    "top_k = 10\n",
    "cf_prec, cf_rec, cf_users = evaluate_jaccard_graph(train_df, test_df, topn=top_k)\n",
    "ppr_prec, ppr_rec, ppr_users = evaluate_ppr(train_df, test_df, topn=top_k)\n",
    "print(\n",
    "    f\"Graph Jaccard Precision@{top_k}: {cf_prec:.3f} | Recall@{top_k}: {cf_rec:.3f} over {cf_users} users\"\n",
    ")\n",
    "print(\n",
    "    f\"PPR Precision@{top_k}: {ppr_prec:.3f} | Recall@{top_k}: {ppr_rec:.3f} over {ppr_users} users\"\n",
    ")"
   ]
  },
  {
   "cell_type": "markdown",
   "id": "72a742f3",
   "metadata": {},
   "source": [
    "### Wrap-up\n",
    "\n",
    "- Collaborative filtering shines when users share dense interaction overlap.\n",
    "- Personalized PageRank spreads preference signals through the graph and can surface items even with sparse direct overlap.\n",
    "- Swap in richer edge weights or side information to extend the lesson."
   ]
  }
 ],
 "metadata": {
  "kernelspec": {
   "display_name": "grafos-nbs-25 (3.12.3)",
   "language": "python",
   "name": "python3"
  },
  "language_info": {
   "codemirror_mode": {
    "name": "ipython",
    "version": 3
   },
   "file_extension": ".py",
   "mimetype": "text/x-python",
   "name": "python",
   "nbconvert_exporter": "python",
   "pygments_lexer": "ipython3",
   "version": "3.12.3"
  }
 },
 "nbformat": 4,
 "nbformat_minor": 5
}
