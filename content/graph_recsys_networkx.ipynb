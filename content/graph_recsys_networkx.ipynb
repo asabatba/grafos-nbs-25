{
 "cells": [
  {
   "cell_type": "markdown",
   "id": "11b867d0",
   "metadata": {},
   "source": [
    "# Graph-Based Recommenders with NetworkX\n",
    "\n",
    "This 45 minute lesson walks through a minimal graph-based recommender workflow using NetworkX and pandas."
   ]
  },
  {
   "cell_type": "markdown",
   "id": "7c4322a8",
   "metadata": {},
   "source": [
    "**Agenda**\n",
    "\n",
    "- 0-5 min - Why graphs for recommender systems\n",
    "- 5-10 min - Problem framing\n",
    "- 10-22 min - Live build in NetworkX\n",
    "- 22-34 min - Two recommenders\n",
    "- 34-41 min - Fast evaluation"
   ]
  },
  {
   "cell_type": "markdown",
   "id": "88b75d46",
   "metadata": {},
   "source": [
    "## 0-5 min - Why graphs for recommender systems\n",
    "\n",
    "- Graphs model entities as nodes and relationships as edges, matching the user-to-item interactions we collect.\n",
    "- Recommender data is naturally bipartite: one partition for users and one for items.\n",
    "- Recommendations become link prediction or two-hop paths across that bipartite structure.\n",
    "- Graphs give multi-relational context, trail transparency, and help with cold-start items that sit near popular neighbors."
   ]
  },
  {
   "cell_type": "markdown",
   "id": "c340c8b3",
   "metadata": {},
   "source": [
    "## 5-10 min - Problem framing\n",
    "\n",
    "- **Input:** time-stamped user-item interactions.\n",
    "- **Output:** a ranked list of new items per user.\n",
    "- Graph view: recommend items that sit close to a user via similar users or random walks.\n",
    "- We will compare two simple methods: user-user Jaccard similarity and Personalized PageRank (PPR)."
   ]
  },
  {
   "cell_type": "code",
   "execution_count": 1,
   "id": "7efcea48",
   "metadata": {},
   "outputs": [],
   "source": [
    "import polars as pl\n",
    "import networkx as nx\n",
    "from pathlib import Path\n",
    "import matplotlib.pyplot as plt\n",
    "\n",
    "DATA_PATH = Path(\"interactions.csv\")\n"
   ]
  },
  {
   "cell_type": "markdown",
   "id": "545c4c5b",
   "metadata": {},
   "source": [
    "Load the interaction log. Each row tells us which user touched which item and when."
   ]
  },
  {
   "cell_type": "code",
   "execution_count": 2,
   "id": "35adf201",
   "metadata": {},
   "outputs": [
    {
     "data": {
      "text/html": [
       "<div><style>\n",
       ".dataframe > thead > tr,\n",
       ".dataframe > tbody > tr {\n",
       "  text-align: right;\n",
       "  white-space: pre-wrap;\n",
       "}\n",
       "</style>\n",
       "<small>shape: (5, 3)</small><table border=\"1\" class=\"dataframe\"><thead><tr><th>user</th><th>item</th><th>timestamp</th></tr><tr><td>str</td><td>str</td><td>datetime[μs]</td></tr></thead><tbody><tr><td>&quot;u13&quot;</td><td>&quot;i039&quot;</td><td>2024-01-01 09:18:00</td></tr><tr><td>&quot;u12&quot;</td><td>&quot;i094&quot;</td><td>2024-01-02 16:59:00</td></tr><tr><td>&quot;u23&quot;</td><td>&quot;i067&quot;</td><td>2024-01-02 21:55:00</td></tr><tr><td>&quot;u24&quot;</td><td>&quot;i071&quot;</td><td>2024-01-03 09:46:00</td></tr><tr><td>&quot;u09&quot;</td><td>&quot;i037&quot;</td><td>2024-01-04 10:49:00</td></tr></tbody></table></div>"
      ],
      "text/plain": [
       "shape: (5, 3)\n",
       "┌──────┬──────┬─────────────────────┐\n",
       "│ user ┆ item ┆ timestamp           │\n",
       "│ ---  ┆ ---  ┆ ---                 │\n",
       "│ str  ┆ str  ┆ datetime[μs]        │\n",
       "╞══════╪══════╪═════════════════════╡\n",
       "│ u13  ┆ i039 ┆ 2024-01-01 09:18:00 │\n",
       "│ u12  ┆ i094 ┆ 2024-01-02 16:59:00 │\n",
       "│ u23  ┆ i067 ┆ 2024-01-02 21:55:00 │\n",
       "│ u24  ┆ i071 ┆ 2024-01-03 09:46:00 │\n",
       "│ u09  ┆ i037 ┆ 2024-01-04 10:49:00 │\n",
       "└──────┴──────┴─────────────────────┘"
      ]
     },
     "execution_count": 2,
     "metadata": {},
     "output_type": "execute_result"
    }
   ],
   "source": [
    "interactions_df = pl.read_csv(DATA_PATH, try_parse_dates=True).sort(\"timestamp\")\n",
    "interactions_df.head()\n"
   ]
  },
  {
   "cell_type": "code",
   "execution_count": 3,
   "id": "ef62bb07",
   "metadata": {},
   "outputs": [
    {
     "data": {
      "text/plain": [
       "{'users': 30, 'items': 99, 'interactions': 374}"
      ]
     },
     "execution_count": 3,
     "metadata": {},
     "output_type": "execute_result"
    }
   ],
   "source": [
    "summary = {\n",
    "    \"users\": interactions_df[\"user\"].n_unique(),\n",
    "    \"items\": interactions_df[\"item\"].n_unique(),\n",
    "    \"interactions\": interactions_df.height,\n",
    "}\n",
    "summary\n"
   ]
  },
  {
   "cell_type": "markdown",
   "id": "cb4e232c",
   "metadata": {},
   "source": [
    "## 10-22 min - Live build in NetworkX\n",
    "\n",
    "We now turn the table into a bipartite graph where users and items live in separate partitions."
   ]
  },
  {
   "cell_type": "code",
   "execution_count": 4,
   "id": "97478455",
   "metadata": {},
   "outputs": [],
   "source": [
    "def build_bipartite_graph(df: pl.DataFrame) -> nx.Graph:\n",
    "    \"\"\"Return a bipartite graph with `bipartite` metadata on nodes.\"\"\"\n",
    "    B = nx.Graph()\n",
    "    users = df[\"user\"].unique().to_list()\n",
    "    items = df[\"item\"].unique().to_list()\n",
    "    B.add_nodes_from(users, bipartite=\"users\")\n",
    "    B.add_nodes_from(items, bipartite=\"items\")\n",
    "    for row in df.iter_rows(named=True):\n",
    "        B.add_edge(row[\"user\"], row[\"item\"], timestamp=row[\"timestamp\"])\n",
    "    return B\n"
   ]
  },
  {
   "cell_type": "code",
   "execution_count": 5,
   "id": "d6d4d23a",
   "metadata": {},
   "outputs": [
    {
     "name": "stdout",
     "output_type": "stream",
     "text": [
      "Nodes: 129 | Edges: 374\n",
      "User nodes: 30 | Item nodes: 99\n"
     ]
    }
   ],
   "source": [
    "B_full = build_bipartite_graph(interactions_df)\n",
    "print(f\"Nodes: {B_full.number_of_nodes()} | Edges: {B_full.number_of_edges()}\")\n",
    "user_nodes = [n for n, data in B_full.nodes(data=True) if data[\"bipartite\"] == \"users\"]\n",
    "item_nodes = [n for n, data in B_full.nodes(data=True) if data[\"bipartite\"] == \"items\"]\n",
    "print(f\"User nodes: {len(user_nodes)} | Item nodes: {len(item_nodes)}\")"
   ]
  },
  {
   "cell_type": "markdown",
   "id": "5d106f7f",
   "metadata": {},
   "source": [
    "Confirm the metadata that tells us which partition each node belongs to."
   ]
  },
  {
   "cell_type": "code",
   "execution_count": 6,
   "id": "b70d61d6",
   "metadata": {},
   "outputs": [
    {
     "name": "stdout",
     "output_type": "stream",
     "text": [
      "u07 {'bipartite': 'users'}\n",
      "u11 {'bipartite': 'users'}\n",
      "u28 {'bipartite': 'users'}\n",
      "u13 {'bipartite': 'users'}\n",
      "u15 {'bipartite': 'users'}\n"
     ]
    }
   ],
   "source": [
    "for node in user_nodes[:5]:\n",
    "    print(node, B_full.nodes[node])"
   ]
  },
  {
   "cell_type": "markdown",
   "id": "2e2d5b13",
   "metadata": {},
   "source": [
    "A quick ego-graph paints how two-hop paths capture recommendation reach."
   ]
  },
  {
   "cell_type": "code",
   "execution_count": 7,
   "id": "1b20dded",
   "metadata": {},
   "outputs": [
    {
     "data": {
      "image/png": "[encoded data removed]",
      "text/plain": [
       "<Figure size 800x600 with 1 Axes>"
      ]
     },
     "metadata": {},
     "output_type": "display_data"
    }
   ],
   "source": [
    "def plot_ego(B: nx.Graph, user: str, max_neighbors: int = 12) -> None:\n",
    "    \"\"\"Plot a spring layout of the ego network around the user.\"\"\"\n",
    "    if user not in B:\n",
    "        raise ValueError(f\"User {user} not present in the graph\")\n",
    "    items = list(B.neighbors(user))[:max_neighbors]\n",
    "    nodes = {user, *items}\n",
    "    for item in items:\n",
    "        nodes.update(list(B.neighbors(item))[:6])\n",
    "    ego = B.subgraph(nodes).copy()\n",
    "    pos = nx.spring_layout(ego, seed=7)\n",
    "    plt.figure(figsize=(8, 6))\n",
    "    nx.draw(ego, pos, with_labels=True, node_size=400, font_size=8)\n",
    "    nx.draw_networkx_nodes(\n",
    "        ego,\n",
    "        pos,\n",
    "        nodelist=[n for n in ego.nodes if ego.nodes[n][\"bipartite\"] == \"users\"],\n",
    "        node_size=600,\n",
    "        node_color=\"tab:blue\",\n",
    "    )\n",
    "    nx.draw_networkx_nodes(\n",
    "        ego,\n",
    "        pos,\n",
    "        nodelist=[n for n in ego.nodes if ego.nodes[n][\"bipartite\"] == \"items\"],\n",
    "        node_size=500,\n",
    "        node_color=\"tab:green\",\n",
    "    )\n",
    "    plt.title(f\"Ego graph around {user}\")\n",
    "    plt.show()\n",
    "\n",
    "\n",
    "example_user = interactions_df[\"user\"][0]\n",
    "plot_ego(B_full, example_user)"
   ]
  },
  {
   "cell_type": "markdown",
   "id": "df638973",
   "metadata": {},
   "source": [
    "## 22-34 min - Two recommenders\n",
    "\n",
    "We start with a graph-native Jaccard scorer that relies on NetworkX's link-prediction helpers and then compare it with Personalized PageRank."
   ]
  },
  {
   "cell_type": "code",
   "execution_count": 24,
   "id": "dcc5998f",
   "metadata": {},
   "outputs": [
    {
     "name": "stdout",
     "output_type": "stream",
     "text": [
      "Demo user: u13\n",
      "Jaccard suggestions: shape: (5, 2)\n",
      "┌─────────┬──────────┐\n",
      "│ product ┆ score    │\n",
      "│ ---     ┆ ---      │\n",
      "│ str     ┆ f64      │\n",
      "╞═════════╪══════════╡\n",
      "│ i031    ┆ 0.783358 │\n",
      "│ i059    ┆ 0.448332 │\n",
      "│ i095    ┆ 0.445279 │\n",
      "│ i013    ┆ 0.386518 │\n",
      "│ i004    ┆ 0.352341 │\n",
      "└─────────┴──────────┘\n"
     ]
    }
   ],
   "source": [
    "from collections import defaultdict\n",
    "\n",
    "\n",
    "def recommend_jaccard_graph(\n",
    "    B: nx.Graph,\n",
    "    user: str,\n",
    ") -> pl.DataFrame:\n",
    "    \"\"\"Use NetworkX's jaccard_coefficient to score user-item links.\"\"\"\n",
    "    if user not in B:\n",
    "        return pl.DataFrame({\"product\": [], \"score\": []})\n",
    "    ego: nx.Graph = nx.ego_graph(B, user, radius=2, center=False)\n",
    "\n",
    "    neighbors = [\n",
    "        n for n, data in ego.nodes(data=True) if data.get(\"bipartite\") == \"users\"\n",
    "    ]\n",
    "    seen = set(B.neighbors(user))\n",
    "    ebunch = list((user, neighbor) for neighbor in neighbors)\n",
    "    jaccard = dict([((u, v), p) for u, v, p in nx.jaccard_coefficient(B, ebunch)])\n",
    "    scored_items = defaultdict(float)\n",
    "\n",
    "    for neighbor in neighbors:\n",
    "        for item in B.neighbors(neighbor):\n",
    "            if item not in seen:\n",
    "                scored_items[item] += (jaccard).get((user, neighbor), 0)\n",
    "\n",
    "    return pl.DataFrame(\n",
    "        {\"product\": list(scored_items.keys()), \"score\": list(scored_items.values())}\n",
    "    )\n",
    "\n",
    "\n",
    "demo_user = interactions_df[\"user\"][0]\n",
    "cf_demo = recommend_jaccard_graph(B_full, demo_user)\n",
    "\n",
    "print(f\"Demo user: {demo_user}\")\n",
    "print(\"Jaccard suggestions:\", cf_demo.sort(\"score\", descending=True).head(5))\n"
   ]
  },
  {
   "cell_type": "code",
   "execution_count": 25,
   "id": "072b83c0",
   "metadata": {},
   "outputs": [
    {
     "name": "stdout",
     "output_type": "stream",
     "text": [
      "Demo user: u13\n",
      "PPR suggestions: shape: (5, 2)\n",
      "┌─────────┬──────────┐\n",
      "│ product ┆ score    │\n",
      "│ ---     ┆ ---      │\n",
      "│ str     ┆ f64      │\n",
      "╞═════════╪══════════╡\n",
      "│ i031    ┆ 0.009069 │\n",
      "│ i059    ┆ 0.005683 │\n",
      "│ i076    ┆ 0.00535  │\n",
      "│ i095    ┆ 0.005149 │\n",
      "│ i013    ┆ 0.005048 │\n",
      "└─────────┴──────────┘\n"
     ]
    }
   ],
   "source": [
    "def recommend_ppr(\n",
    "    B: nx.Graph, user: str, *, alpha: float = 0.85, max_iter: int = 100\n",
    ") -> pl.DataFrame:\n",
    "    \"\"\"Run Personalized PageRank and return product scores.\"\"\"\n",
    "    if user not in B:\n",
    "        return pl.DataFrame({\"product\": [], \"score\": []})\n",
    "    personalization = {user: 1.0}\n",
    "    scores = nx.pagerank(\n",
    "        B, alpha=alpha, personalization=personalization, max_iter=max_iter\n",
    "    )\n",
    "    seen = set(B.neighbors(user))\n",
    "\n",
    "    scored_items = {\n",
    "        node: score\n",
    "        for node, score in scores.items()\n",
    "        if B.nodes[node].get(\"bipartite\") == \"items\" and node not in seen\n",
    "    }\n",
    "\n",
    "    return pl.DataFrame(\n",
    "        {\"product\": list(scored_items.keys()), \"score\": list(scored_items.values())}\n",
    "    )\n",
    "\n",
    "\n",
    "demo_user = interactions_df[\"user\"][0]\n",
    "ppr_demo = recommend_ppr(B_full, demo_user)\n",
    "print(f\"Demo user: {demo_user}\")\n",
    "print(\"PPR suggestions:\", ppr_demo.sort(\"score\", descending=True).head(5))"
   ]
  },
  {
   "cell_type": "markdown",
   "id": "c0aa5cf5",
   "metadata": {},
   "source": [
    "## 34-41 min - Fast evaluation\n",
    "\n",
    "We hold out each user's latest interaction and compute Precision@K and Recall@K for both recommenders."
   ]
  },
  {
   "cell_type": "code",
   "execution_count": null,
   "id": "453542c0",
   "metadata": {},
   "outputs": [],
   "source": [
    "def train_test_split_last_item_per_user(\n",
    "    df: pl.DataFrame,\n",
    ") -> tuple[pl.DataFrame, pl.DataFrame]:\n",
    "    \"\"\"Hold out the last timestamped interaction per user.\"\"\"\n",
    "    df_sorted = df.sort([\"user\", \"timestamp\"]).with_row_index(\"row_id\")\n",
    "    test = df_sorted.group_by(\"user\", maintain_order=True).tail(1)\n",
    "    train = df_sorted.filter(~pl.col(\"row_id\").is_in(test[\"row_id\"]))\n",
    "    return train.drop(\"row_id\"), test.drop(\"row_id\")\n",
    "\n",
    "\n",
    "\n",
    "def precision_recall_at_k(\n",
    "    recs: list[str], truth: list[str], k: int\n",
    ") -> tuple[float, float]:\n",
    "    \"\"\"Return Precision@k and Recall@k for a recommendation list.\"\"\"\n",
    "    recs_k = recs[:k]\n",
    "    hits = len(set(recs_k) & set(truth))\n",
    "    precision = hits / max(1, len(recs_k))\n",
    "    recall = hits / max(1, len(truth))\n",
    "    return precision, recall\n",
    "\n",
    "\n",
    "\n",
    "def to_user_items(df: pl.DataFrame) -> dict[str, set[str]]:\n",
    "    \"\"\"Collect the set of items interacted with by each user.\"\"\"\n",
    "    user_items: dict[str, set[str]] = defaultdict(set)\n",
    "    for row in df.iter_rows(named=True):\n",
    "        user_items[row[\"user\"]].add(row[\"item\"])\n",
    "    return user_items\n",
    "\n",
    "\n",
    "\n",
    "def evaluate_jaccard_graph(\n",
    "    train_df: pl.DataFrame, test_df: pl.DataFrame, *, topn: int\n",
    ") -> tuple[float, float, int]:\n",
    "    train_graph = build_bipartite_graph(train_df)\n",
    "    test_user_items = to_user_items(test_df)\n",
    "    metrics: list[tuple[float, float]] = []\n",
    "    for user, truth_items in test_user_items.items():\n",
    "        if user not in train_graph:\n",
    "            continue\n",
    "        scores_df = recommend_jaccard_graph(train_graph, user)\n",
    "        if scores_df.height == 0:\n",
    "            continue\n",
    "        recs = (\n",
    "            scores_df\n",
    "            .sort(\"score\", descending=True)\n",
    "            .head(topn)\n",
    "            .get_column(\"product\")\n",
    "            .to_list()\n",
    "        )\n",
    "        precision, recall = precision_recall_at_k(recs, list(truth_items), topn)\n",
    "        metrics.append((precision, recall))\n",
    "    if not metrics:\n",
    "        return 0.0, 0.0, 0\n",
    "    precision_avg = sum(p for p, _ in metrics) / len(metrics)\n",
    "    recall_avg = sum(r for _, r in metrics) / len(metrics)\n",
    "    return precision_avg, recall_avg, len(metrics)\n",
    "\n",
    "\n",
    "\n",
    "def evaluate_ppr(\n",
    "    train_df: pl.DataFrame, test_df: pl.DataFrame, *, topn: int\n",
    ") -> tuple[float, float, int]:\n",
    "    train_graph = build_bipartite_graph(train_df)\n",
    "    test_user_items = to_user_items(test_df)\n",
    "    metrics: list[tuple[float, float]] = []\n",
    "    for user, truth_items in test_user_items.items():\n",
    "        if user not in train_graph:\n",
    "            continue\n",
    "        scores_df = recommend_ppr(train_graph, user)\n",
    "        if scores_df.height == 0:\n",
    "            continue\n",
    "        recs = (\n",
    "            scores_df\n",
    "            .sort(\"score\", descending=True)\n",
    "            .head(topn)\n",
    "            .get_column(\"product\")\n",
    "            .to_list()\n",
    "        )\n",
    "        precision, recall = precision_recall_at_k(recs, list(truth_items), topn)\n",
    "        metrics.append((precision, recall))\n",
    "    if not metrics:\n",
    "        return 0.0, 0.0, 0\n",
    "    precision_avg = sum(p for p, _ in metrics) / len(metrics)\n",
    "    recall_avg = sum(r for _, r in metrics) / len(metrics)\n",
    "    return precision_avg, recall_avg, len(metrics)\n"
   ]
  },
  {
   "cell_type": "code",
   "execution_count": 12,
   "id": "df2fb2e2",
   "metadata": {},
   "outputs": [
    {
     "name": "stderr",
     "output_type": "stream",
     "text": [
      "C:\\Users\\Arnau\\AppData\\Local\\Temp\\ipykernel_19140\\1898079562.py:5: DeprecationWarning: `DataFrame.with_row_count` is deprecated; use `with_row_index` instead. Note that the default column name has changed from 'row_nr' to 'index'.\n",
      "  df_sorted = df.sort([\"user\", \"timestamp\"]).with_row_count(\"row_id\")\n",
      "C:\\Users\\Arnau\\AppData\\Local\\Temp\\ipykernel_19140\\1898079562.py:7: DeprecationWarning: `is_in` with a collection of the same datatype is ambiguous and deprecated.\n",
      "Please use `implode` to return to previous behavior.\n",
      "\n",
      "See https://github.com/pola-rs/polars/issues/22149 for more information.\n",
      "  train = df_sorted.filter(~pl.col(\"row_id\").is_in(test[\"row_id\"]))\n"
     ]
    },
    {
     "name": "stdout",
     "output_type": "stream",
     "text": [
      "Graph Jaccard Precision@10: 0.013 | Recall@10: 0.133 over 30 users\n",
      "PPR Precision@10: 0.013 | Recall@10: 0.133 over 30 users\n"
     ]
    }
   ],
   "source": [
    "train_df, test_df = train_test_split_last_item_per_user(interactions_df)\n",
    "top_k = 10\n",
    "cf_prec, cf_rec, cf_users = evaluate_jaccard_graph(train_df, test_df, topn=top_k)\n",
    "ppr_prec, ppr_rec, ppr_users = evaluate_ppr(train_df, test_df, topn=top_k)\n",
    "print(\n",
    "    f\"Graph Jaccard Precision@{top_k}: {cf_prec:.3f} | Recall@{top_k}: {cf_rec:.3f} over {cf_users} users\"\n",
    ")\n",
    "print(\n",
    "    f\"PPR Precision@{top_k}: {ppr_prec:.3f} | Recall@{top_k}: {ppr_rec:.3f} over {ppr_users} users\"\n",
    ")"
   ]
  },
  {
   "cell_type": "markdown",
   "id": "72a742f3",
   "metadata": {},
   "source": [
    "### Wrap-up\n",
    "\n",
    "- Collaborative filtering shines when users share dense interaction overlap.\n",
    "- Personalized PageRank spreads preference signals through the graph and can surface items even with sparse direct overlap.\n",
    "- Swap in richer edge weights or side information to extend the lesson."
   ]
  }
 ],
 "metadata": {
  "kernelspec": {
   "display_name": "grafos-nbs-25 (3.12.3)",
   "language": "python",
   "name": "python3"
  },
  "language_info": {
   "codemirror_mode": {
    "name": "ipython",
    "version": 3
   },
   "file_extension": ".py",
   "mimetype": "text/x-python",
   "name": "python",
   "nbconvert_exporter": "python",
   "pygments_lexer": "ipython3",
   "version": "3.12.3"
  }
 },
 "nbformat": 4,
 "nbformat_minor": 5
}
