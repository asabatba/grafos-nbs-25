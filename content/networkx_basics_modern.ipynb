{
 "cells": [
  {
   "cell_type": "markdown",
   "id": "4e21f49b",
   "metadata": {},
   "source": [
    "\n",
    "# NetworkX Basics (Modern API, 3.x-safe)\n",
    "\n",
    "This notebook demonstrates common NetworkX tasks using current, non-deprecated APIs:\n",
    "- Build a graph with node/edge attributes\n",
    "- Inspect structure (sizes, density, connectivity)\n",
    "- Shortest paths\n",
    "- Centrality\n",
    "- Community detection (greedy modularity)\n",
    "- Visualization with Matplotlib\n",
    "- Save & load (GraphML)\n",
    "- Small directed example (PageRank)\n",
    "\n",
    "**Note:** `nx.info(G)` was deprecated/removed in 3.0. We use `print(G)` and direct property calls like `G.number_of_nodes()` instead.\n"
   ]
  },
  {
   "cell_type": "markdown",
   "id": "cec66bf2",
   "metadata": {},
   "source": [
    "## Setup"
   ]
  },
  {
   "cell_type": "code",
   "execution_count": null,
   "id": "9a6efcd6",
   "metadata": {},
   "outputs": [],
   "source": [
    "\n",
    "# If NetworkX/Matplotlib are missing, uncomment:\n",
    "# !pip install networkx matplotlib\n",
    "\n",
    "import networkx as nx\n",
    "import matplotlib.pyplot as plt\n",
    "\n",
    "print(\"NetworkX version:\", nx.__version__)\n"
   ]
  },
  {
   "cell_type": "markdown",
   "id": "dc609189",
   "metadata": {},
   "source": [
    "## Create a small example graph"
   ]
  },
  {
   "cell_type": "code",
   "execution_count": null,
   "id": "fc6782dd",
   "metadata": {},
   "outputs": [],
   "source": [
    "\n",
    "G = nx.Graph(name=\"Friendship Graph\")\n",
    "\n",
    "# Nodes with attributes\n",
    "G.add_node(\"Alice\",  age=29, city=\"Madrid\")\n",
    "G.add_node(\"Bob\",    age=31, city=\"Madrid\")\n",
    "G.add_node(\"Chloe\",  age=28, city=\"Valencia\")\n",
    "G.add_node(\"Diego\",  age=35, city=\"Sevilla\")\n",
    "G.add_node(\"Emma\",   age=33, city=\"Madrid\")\n",
    "G.add_node(\"Farid\",  age=29, city=\"Bilbao\")\n",
    "\n",
    "# Edges with attributes\n",
    "G.add_edge(\"Alice\", \"Bob\",   since=2020)\n",
    "G.add_edge(\"Alice\", \"Chloe\", since=2022)\n",
    "G.add_edge(\"Bob\",   \"Chloe\", since=2019)\n",
    "G.add_edge(\"Bob\",   \"Emma\",  since=2018)\n",
    "G.add_edge(\"Chloe\", \"Diego\", since=2021)\n",
    "G.add_edge(\"Emma\",  \"Farid\", since=2020)\n",
    "\n",
    "# A tiny separate component\n",
    "G.add_node(\"Gina\", age=27, city=\"Zaragoza\")\n",
    "G.add_node(\"Hugo\", age=30, city=\"Zaragoza\")\n",
    "G.add_edge(\"Gina\", \"Hugo\", since=2024)\n",
    "\n",
    "# Modern way to show a concise summary (replacement for deprecated nx.info(G)):\n",
    "print(G)  # e.g., \"Graph with 8 nodes and 7 edges\"\n",
    "print(\"Nodes (with data):\", G.nodes(data=True))\n",
    "print(\"Edges (with data):\", G.edges(data=True))\n"
   ]
  },
  {
   "cell_type": "markdown",
   "id": "5c1c4211",
   "metadata": {},
   "source": [
    "## Basic stats"
   ]
  },
  {
   "cell_type": "code",
   "execution_count": null,
   "id": "24ba5cf8",
   "metadata": {},
   "outputs": [],
   "source": [
    "\n",
    "n_nodes = G.number_of_nodes()\n",
    "n_edges = G.number_of_edges()\n",
    "density = nx.density(G)\n",
    "\n",
    "print(f\"Nodes: {n_nodes}, Edges: {n_edges}, Density: {density:.3f}\")\n",
    "print(\"Is connected?:\", nx.is_connected(G))\n",
    "print(\"Connected components:\", [sorted(c) for c in nx.connected_components(G)])\n",
    "\n",
    "# Degrees\n",
    "degrees = dict(G.degree())\n",
    "print(\"Degree by node:\", degrees)\n"
   ]
  },
  {
   "cell_type": "markdown",
   "id": "b7e3d1d4",
   "metadata": {},
   "source": [
    "## Shortest paths"
   ]
  },
  {
   "cell_type": "code",
   "execution_count": null,
   "id": "5a75f940",
   "metadata": {},
   "outputs": [],
   "source": [
    "\n",
    "source, target = \"Alice\", \"Diego\"\n",
    "print(f\"Shortest path {source}->{target}:\", nx.shortest_path(G, source, target))\n",
    "\n",
    "# All-pairs (ok for small graphs)\n",
    "lengths = dict(nx.all_pairs_shortest_path_length(G))\n",
    "print(\"Shortest path lengths from Alice:\", lengths[\"Alice\"])\n"
   ]
  },
  {
   "cell_type": "markdown",
   "id": "d5bc9e92",
   "metadata": {},
   "source": [
    "## Centrality"
   ]
  },
  {
   "cell_type": "code",
   "execution_count": null,
   "id": "cd3a425e",
   "metadata": {},
   "outputs": [],
   "source": [
    "\n",
    "deg_cent = nx.degree_centrality(G)\n",
    "bet_cent = nx.betweenness_centrality(G, normalized=True)\n",
    "clo_cent = nx.closeness_centrality(G)\n",
    "\n",
    "def top_k(d, k=3):\n",
    "    return sorted(d.items(), key=lambda x: x[1], reverse=True)[:k]\n",
    "\n",
    "print(\"Top degree centrality:\", top_k(deg_cent))\n",
    "print(\"Top betweenness centrality:\", top_k(bet_cent))\n",
    "print(\"Top closeness centrality:\", top_k(clo_cent))\n"
   ]
  },
  {
   "cell_type": "markdown",
   "id": "6f8d1b97",
   "metadata": {},
   "source": [
    "## Community detection (greedy modularity)"
   ]
  },
  {
   "cell_type": "code",
   "execution_count": null,
   "id": "a274b174",
   "metadata": {},
   "outputs": [],
   "source": [
    "\n",
    "# Import path consistent with docs; top-level import also works.\n",
    "from networkx.algorithms.community import greedy_modularity_communities\n",
    "\n",
    "communities = list(greedy_modularity_communities(G))\n",
    "for i, comm in enumerate(communities, start=1):\n",
    "    print(f\"Community {i}: {sorted(comm)}\")\n",
    "\n",
    "# Map each node -> community index for plotting\n",
    "node2comm = {}\n",
    "for i, comm in enumerate(communities):\n",
    "    for node in comm:\n",
    "        node2comm[node] = i\n"
   ]
  },
  {
   "cell_type": "markdown",
   "id": "b4fc9a63",
   "metadata": {},
   "source": [
    "## Visualization"
   ]
  },
  {
   "cell_type": "code",
   "execution_count": null,
   "id": "47f59188",
   "metadata": {},
   "outputs": [],
   "source": [
    "\n",
    "pos = nx.spring_layout(G, seed=42)\n",
    "\n",
    "# Node sizes by degree centrality\n",
    "sizes = [3000 * deg_cent[n] for n in G.nodes()]\n",
    "\n",
    "plt.figure(figsize=(8, 6))\n",
    "nx.draw_networkx_nodes(G, pos, node_size=sizes, node_color=[node2comm[n] for n in G.nodes()])\n",
    "nx.draw_networkx_edges(G, pos)\n",
    "nx.draw_networkx_labels(G, pos, font_size=10)\n",
    "\n",
    "edge_labels = {(u, v): d.get(\"since\", \"\") for u, v, d in G.edges(data=True)}\n",
    "nx.draw_networkx_edge_labels(G, pos, edge_labels=edge_labels, font_size=8)\n",
    "\n",
    "plt.title(G.graph.get(\"name\", \"Graph\"))\n",
    "plt.axis(\"off\")\n",
    "plt.show()\n"
   ]
  },
  {
   "cell_type": "markdown",
   "id": "d096c52f",
   "metadata": {},
   "source": [
    "## Save & load (GraphML)"
   ]
  },
  {
   "cell_type": "code",
   "execution_count": null,
   "id": "7868a9f2",
   "metadata": {},
   "outputs": [],
   "source": [
    "\n",
    "graphml_path = \"friendship_graph.graphml\"\n",
    "nx.write_graphml(G, graphml_path)\n",
    "print(\"Saved:\", graphml_path)\n",
    "\n",
    "G2 = nx.read_graphml(graphml_path)\n",
    "print(\"Loaded graph has\", G2.number_of_nodes(), \"nodes and\", G2.number_of_edges(), \"edges.\")\n"
   ]
  },
  {
   "cell_type": "markdown",
   "id": "02b11fe2",
   "metadata": {},
   "source": [
    "## Modify the graph"
   ]
  },
  {
   "cell_type": "code",
   "execution_count": null,
   "id": "020f3834",
   "metadata": {},
   "outputs": [],
   "source": [
    "\n",
    "G.add_node(\"Iris\", age=26, city=\"Madrid\")\n",
    "G.add_edge(\"Iris\", \"Alice\", since=2025)\n",
    "G.remove_node(\"Hugo\")\n",
    "\n",
    "print(\"After modifications:\")\n",
    "print(\"Nodes:\", sorted(G.nodes()))\n",
    "print(\"Edges:\", sorted(G.edges()))\n"
   ]
  },
  {
   "cell_type": "markdown",
   "id": "3cb418f8",
   "metadata": {},
   "source": [
    "## Directed example + PageRank"
   ]
  },
  {
   "cell_type": "code",
   "execution_count": null,
   "id": "3bbb52f2",
   "metadata": {},
   "outputs": [],
   "source": [
    "\n",
    "DG = nx.DiGraph(name=\"Follower Graph\")\n",
    "DG.add_edges_from([\n",
    "    (\"Alice\", \"Bob\"),\n",
    "    (\"Bob\", \"Chloe\"),\n",
    "    (\"Chloe\", \"Alice\"),\n",
    "    (\"Emma\", \"Bob\"),\n",
    "    (\"Farid\", \"Bob\"),\n",
    "    (\"Diego\", \"Chloe\"),\n",
    "])\n",
    "\n",
    "pr = nx.pagerank(DG, alpha=0.85)\n",
    "print(\"PageRank:\", dict(sorted(pr.items(), key=lambda x: x[1], reverse=True)))\n"
   ]
  }
 ],
 "metadata": {},
 "nbformat": 4,
 "nbformat_minor": 5
}
