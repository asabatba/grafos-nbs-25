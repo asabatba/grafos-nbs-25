{
 "cells": [
  {
   "cell_type": "markdown",
   "id": "443eea24",
   "metadata": {},
   "source": [
    "\n",
    "# NetworkX Basics: Build, Analyze, and Visualize a Graph\n",
    "\n",
    "This notebook walks through a compact, end‑to‑end example with [NetworkX](https://networkx.org/):\n",
    "\n",
    "- Create a graph with nodes, edges, and attributes\n",
    "- Explore basics (counts, degrees, density)\n",
    "- Run common analyses (paths, components, centrality, communities)\n",
    "- Visualize the graph with Matplotlib\n",
    "- Save & load the graph in a standard format (GraphML)\n",
    "\n",
    "> Tip: You can freely adapt this to your own datasets. Look for the cells marked **🔁 Customize**.\n"
   ]
  },
  {
   "cell_type": "markdown",
   "id": "135d88ac",
   "metadata": {},
   "source": [
    "## Setup"
   ]
  },
  {
   "cell_type": "code",
   "execution_count": null,
   "id": "3789cac2",
   "metadata": {},
   "outputs": [],
   "source": [
    "\n",
    "# If NetworkX / Matplotlib are not installed in your environment, uncomment the next line:\n",
    "# !pip install networkx matplotlib\n",
    "\n",
    "import networkx as nx\n",
    "import matplotlib.pyplot as plt\n",
    "\n",
    "print(\"NetworkX version:\", nx.__version__)\n"
   ]
  },
  {
   "cell_type": "markdown",
   "id": "5211fa85",
   "metadata": {},
   "source": [
    "## Create a small example graph (🔁 Customize)"
   ]
  },
  {
   "cell_type": "code",
   "execution_count": null,
   "id": "852d5adb",
   "metadata": {},
   "outputs": [],
   "source": [
    "\n",
    "# We'll build a tiny \"friendship\" network with attributes.\n",
    "G = nx.Graph(name=\"Friendship Graph\")\n",
    "\n",
    "# Add nodes with attributes\n",
    "G.add_node(\"Alice\",  age=29, city=\"Madrid\")\n",
    "G.add_node(\"Bob\",    age=31, city=\"Madrid\")\n",
    "G.add_node(\"Chloe\",  age=28, city=\"Valencia\")\n",
    "G.add_node(\"Diego\",  age=35, city=\"Sevilla\")\n",
    "G.add_node(\"Emma\",   age=33, city=\"Madrid\")\n",
    "G.add_node(\"Farid\",  age=29, city=\"Bilbao\")\n",
    "\n",
    "# Add edges with an optional \"weight\" or \"since\" attribute\n",
    "G.add_edge(\"Alice\", \"Bob\",   since=2020)\n",
    "G.add_edge(\"Alice\", \"Chloe\", since=2022)\n",
    "G.add_edge(\"Bob\",   \"Chloe\", since=2019)\n",
    "G.add_edge(\"Bob\",   \"Emma\",  since=2018)\n",
    "G.add_edge(\"Chloe\", \"Diego\", since=2021)\n",
    "G.add_edge(\"Emma\",  \"Farid\", since=2020)\n",
    "\n",
    "# A disconnected edge to demonstrate components\n",
    "G.add_node(\"Gina\", age=27, city=\"Zaragoza\")\n",
    "G.add_node(\"Hugo\", age=30, city=\"Zaragoza\")\n",
    "G.add_edge(\"Gina\", \"Hugo\", since=2024)\n",
    "\n",
    "print(nx.info(G))\n",
    "print(\"Nodes with data:\", G.nodes(data=True))\n",
    "print(\"Edges with data:\", G.edges(data=True))\n"
   ]
  },
  {
   "cell_type": "markdown",
   "id": "6e275212",
   "metadata": {},
   "source": [
    "## Basic graph stats"
   ]
  },
  {
   "cell_type": "code",
   "execution_count": null,
   "id": "b34b7223",
   "metadata": {},
   "outputs": [],
   "source": [
    "\n",
    "n_nodes = G.number_of_nodes()\n",
    "n_edges = G.number_of_edges()\n",
    "density = nx.density(G)\n",
    "degrees = dict(G.degree())\n",
    "\n",
    "print(f\"Nodes: {n_nodes}, Edges: {n_edges}, Density: {density:.3f}\")\n",
    "print(\"Degree by node:\", degrees)\n",
    "print(\"Is connected?:\", nx.is_connected(G))\n",
    "print(\"Connected components:\", [sorted(c) for c in nx.connected_components(G)])\n"
   ]
  },
  {
   "cell_type": "markdown",
   "id": "fd608742",
   "metadata": {},
   "source": [
    "## Shortest paths"
   ]
  },
  {
   "cell_type": "code",
   "execution_count": null,
   "id": "adaf6640",
   "metadata": {},
   "outputs": [],
   "source": [
    "\n",
    "# Shortest path between two nodes\n",
    "source, target = \"Alice\", \"Diego\"\n",
    "print(f\"Shortest path from {source} to {target}:\", nx.shortest_path(G, source, target))\n",
    "\n",
    "# All-pairs shortest path lengths (small graphs only)\n",
    "lengths = dict(nx.all_pairs_shortest_path_length(G))\n",
    "print(\"Shortest path lengths from Alice:\", lengths[\"Alice\"])\n"
   ]
  },
  {
   "cell_type": "markdown",
   "id": "7327508a",
   "metadata": {},
   "source": [
    "## Centrality measures"
   ]
  },
  {
   "cell_type": "code",
   "execution_count": null,
   "id": "7917f8f4",
   "metadata": {},
   "outputs": [],
   "source": [
    "\n",
    "deg_cent = nx.degree_centrality(G)\n",
    "bet_cent = nx.betweenness_centrality(G, normalized=True)\n",
    "clo_cent = nx.closeness_centrality(G)\n",
    "\n",
    "def top_k(d, k=3):\n",
    "    return sorted(d.items(), key=lambda x: x[1], reverse=True)[:k]\n",
    "\n",
    "print(\"Top degree centrality:\", top_k(deg_cent))\n",
    "print(\"Top betweenness centrality:\", top_k(bet_cent))\n",
    "print(\"Top closeness centrality:\", top_k(clo_cent))\n"
   ]
  },
  {
   "cell_type": "markdown",
   "id": "76b44bd2",
   "metadata": {},
   "source": [
    "## Community detection (greedy modularity)"
   ]
  },
  {
   "cell_type": "code",
   "execution_count": null,
   "id": "c5586d22",
   "metadata": {},
   "outputs": [],
   "source": [
    "\n",
    "from networkx.algorithms.community import greedy_modularity_communities\n",
    "\n",
    "communities = list(greedy_modularity_communities(G))\n",
    "for i, comm in enumerate(communities, start=1):\n",
    "    print(f\"Community {i}: {sorted(comm)}\")\n",
    "\n",
    "# Map each node -> community index for plotting\n",
    "node2comm = {}\n",
    "for i, comm in enumerate(communities):\n",
    "    for node in comm:\n",
    "        node2comm[node] = i\n"
   ]
  },
  {
   "cell_type": "markdown",
   "id": "48a042ea",
   "metadata": {},
   "source": [
    "## Visualization"
   ]
  },
  {
   "cell_type": "code",
   "execution_count": null,
   "id": "eac4c8be",
   "metadata": {},
   "outputs": [],
   "source": [
    "\n",
    "# Position nodes with a spring layout (deterministic via seed)\n",
    "pos = nx.spring_layout(G, seed=42)\n",
    "\n",
    "# Node sizes by degree centrality (scaled)\n",
    "sizes = [3000 * deg_cent[n] for n in G.nodes()]\n",
    "\n",
    "# Draw\n",
    "plt.figure(figsize=(8, 6))\n",
    "nx.draw_networkx_nodes(G, pos, node_size=sizes, node_color=[node2comm[n] for n in G.nodes()])\n",
    "nx.draw_networkx_edges(G, pos)\n",
    "nx.draw_networkx_labels(G, pos, font_size=10)\n",
    "\n",
    "# Edge labels (friend since)\n",
    "edge_labels = {(u, v): d.get(\"since\", \"\") for u, v, d in G.edges(data=True)}\n",
    "nx.draw_networkx_edge_labels(G, pos, edge_labels=edge_labels, font_size=8)\n",
    "\n",
    "plt.title(G.graph.get(\"name\", \"Graph\"))\n",
    "plt.axis(\"off\")\n",
    "plt.show()\n"
   ]
  },
  {
   "cell_type": "markdown",
   "id": "ee60fbf6",
   "metadata": {},
   "source": [
    "## Save & load the graph (GraphML)"
   ]
  },
  {
   "cell_type": "code",
   "execution_count": null,
   "id": "3a3969e7",
   "metadata": {},
   "outputs": [],
   "source": [
    "\n",
    "# Save to GraphML (widely supported; great for interchange with tools like Gephi)\n",
    "graphml_path = \"friendship_graph.graphml\"\n",
    "nx.write_graphml(G, graphml_path)\n",
    "print(\"Saved:\", graphml_path)\n",
    "\n",
    "# Load it back\n",
    "G2 = nx.read_graphml(graphml_path)\n",
    "print(\"Loaded graph has\", G2.number_of_nodes(), \"nodes and\", G2.number_of_edges(), \"edges.\")\n"
   ]
  },
  {
   "cell_type": "markdown",
   "id": "24f5cf34",
   "metadata": {},
   "source": [
    "## Modify the graph (add/remove nodes & edges)"
   ]
  },
  {
   "cell_type": "code",
   "execution_count": null,
   "id": "9d198943",
   "metadata": {},
   "outputs": [],
   "source": [
    "\n",
    "# Add a new person and connect them\n",
    "G.add_node(\"Iris\", age=26, city=\"Madrid\")\n",
    "G.add_edge(\"Iris\", \"Alice\", since=2025)\n",
    "\n",
    "# Remove a node\n",
    "G.remove_node(\"Hugo\")  # Note: removes any incident edges\n",
    "\n",
    "print(\"After modifications:\")\n",
    "print(\"Nodes:\", sorted(G.nodes()))\n",
    "print(\"Edges:\", sorted(G.edges()))\n"
   ]
  },
  {
   "cell_type": "markdown",
   "id": "6271f456",
   "metadata": {},
   "source": [
    "## (Optional) Directed graph example + PageRank"
   ]
  },
  {
   "cell_type": "code",
   "execution_count": null,
   "id": "7f2c1a9b",
   "metadata": {},
   "outputs": [],
   "source": [
    "\n",
    "DG = nx.DiGraph(name=\"Follower Graph\")\n",
    "DG.add_edges_from([\n",
    "    (\"Alice\", \"Bob\"),\n",
    "    (\"Bob\", \"Chloe\"),\n",
    "    (\"Chloe\", \"Alice\"),\n",
    "    (\"Emma\", \"Bob\"),\n",
    "    (\"Farid\", \"Bob\"),\n",
    "    (\"Diego\", \"Chloe\"),\n",
    "])\n",
    "\n",
    "pr = nx.pagerank(DG, alpha=0.85)\n",
    "print(\"PageRank:\", dict(sorted(pr.items(), key=lambda x: x[1], reverse=True)))\n"
   ]
  }
 ],
 "metadata": {},
 "nbformat": 4,
 "nbformat_minor": 5
}
